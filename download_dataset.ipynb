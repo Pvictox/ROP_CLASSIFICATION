{
 "cells": [
  {
   "cell_type": "code",
   "execution_count": 2,
   "id": "eb1deb40",
   "metadata": {},
   "outputs": [],
   "source": [
    "!export KAGGLEHUB_CACHE='/home/pedro_fonseca/PATIENT_ROP'"
   ]
  },
  {
   "cell_type": "code",
   "execution_count": 3,
   "id": "1d02c076",
   "metadata": {},
   "outputs": [
    {
     "name": "stdout",
     "output_type": "stream",
     "text": [
      "Downloading from https://www.kaggle.com/api/v1/datasets/download/jananowakova/retinal-image-dataset-of-infants-and-rop?dataset_version_number=4...\n"
     ]
    },
    {
     "name": "stderr",
     "output_type": "stream",
     "text": [
      "100%|██████████| 7.43G/7.43G [04:09<00:00, 32.0MB/s]  "
     ]
    },
    {
     "name": "stdout",
     "output_type": "stream",
     "text": [
      "Extracting files...\n"
     ]
    },
    {
     "name": "stderr",
     "output_type": "stream",
     "text": [
      "\n"
     ]
    },
    {
     "name": "stdout",
     "output_type": "stream",
     "text": [
      "Path to dataset files: /home/pedro_fonseca/.cache/kagglehub/datasets/jananowakova/retinal-image-dataset-of-infants-and-rop/versions/4\n"
     ]
    }
   ],
   "source": [
    "import kagglehub\n",
    "\n",
    "# Download latest version\n",
    "path = kagglehub.dataset_download(\"jananowakova/retinal-image-dataset-of-infants-and-rop\")\n",
    "\n",
    "print(\"Path to dataset files:\", path)"
   ]
  }
 ],
 "metadata": {
  "kernelspec": {
   "display_name": "Python 3",
   "language": "python",
   "name": "python3"
  },
  "language_info": {
   "codemirror_mode": {
    "name": "ipython",
    "version": 3
   },
   "file_extension": ".py",
   "mimetype": "text/x-python",
   "name": "python",
   "nbconvert_exporter": "python",
   "pygments_lexer": "ipython3",
   "version": "3.11.13"
  }
 },
 "nbformat": 4,
 "nbformat_minor": 5
}
