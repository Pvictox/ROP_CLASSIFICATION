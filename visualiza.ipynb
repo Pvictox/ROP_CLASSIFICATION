{
 "cells": [
  {
   "cell_type": "code",
   "execution_count": 5,
   "id": "c2902fa7",
   "metadata": {},
   "outputs": [
    {
     "name": "stderr",
     "output_type": "stream",
     "text": [
      "/home/lucas/miniconda3/envs/torch/lib/python3.11/site-packages/tqdm/auto.py:21: TqdmWarning: IProgress not found. Please update jupyter and ipywidgets. See https://ipywidgets.readthedocs.io/en/stable/user_install.html\n",
      "  from .autonotebook import tqdm as notebook_tqdm\n"
     ]
    }
   ],
   "source": [
    "import numpy as np\n",
    "import pandas as pd\n",
    "from data_factory.data_factory import DataFactory\n",
    "from utils import Utils\n",
    "from data_factory.ROP_dataset import ROPDataset\n",
    "from train_and_val_worker import TrainAndEvalWorker"
   ]
  },
  {
   "cell_type": "code",
   "execution_count": 8,
   "id": "162770b5",
   "metadata": {},
   "outputs": [],
   "source": [
    "\n",
    "IMG_FILE_PATH = '/backup/lucas/rop_dataset/images_stack_without_captions/images_stack_without_captions'\n",
    "CSV_FILE_PATH = '/backup/lucas/rop_dataset/infant_retinal_database_info.csv'"
   ]
  },
  {
   "cell_type": "code",
   "execution_count": null,
   "id": "4c6929f5",
   "metadata": {},
   "outputs": [
    {
     "name": "stdout",
     "output_type": "stream",
     "text": [
      "Número de arquivos de imagem encontrados: 6004\n",
      "Número de arquivos válidos após filtragem: 6004\n",
      "Numero de amostras no conjunto de treino: 4329\n",
      "Numero de amostras no conjunto de teste: 1675\n",
      "\n",
      "=== Distribuição de classes em cada fold (GroupKFold) ===\n",
      "\n",
      "*Fold 1\n",
      "Treino:\n",
      "  Classe 0: 2965 amostras (85.62%)\n",
      "  Classe 1: 498 amostras (14.38%)\n",
      "Validação:\n",
      "  Classe 0: 525 amostras (60.62%)\n",
      "  Classe 1: 341 amostras (39.38%)\n",
      "--------------------------------------------------\n",
      "\n",
      "*Fold 2\n",
      "Treino:\n",
      "  Classe 0: 2805 amostras (81.0%)\n",
      "  Classe 1: 658 amostras (19.0%)\n",
      "Validação:\n",
      "  Classe 0: 685 amostras (79.1%)\n",
      "  Classe 1: 181 amostras (20.9%)\n",
      "--------------------------------------------------\n",
      "\n",
      "*Fold 3\n",
      "Treino:\n",
      "  Classe 0: 2804 amostras (80.97%)\n",
      "  Classe 1: 659 amostras (19.03%)\n",
      "Validação:\n",
      "  Classe 0: 686 amostras (79.21%)\n",
      "  Classe 1: 180 amostras (20.79%)\n",
      "--------------------------------------------------\n",
      "\n",
      "*Fold 4\n",
      "Treino:\n",
      "  Classe 0: 2633 amostras (76.03%)\n",
      "  Classe 1: 830 amostras (23.97%)\n",
      "Validação:\n",
      "  Classe 0: 857 amostras (98.96%)\n",
      "  Classe 1: 9 amostras (1.04%)\n",
      "--------------------------------------------------\n",
      "\n",
      "*Fold 5\n",
      "Treino:\n",
      "  Classe 0: 2753 amostras (79.47%)\n",
      "  Classe 1: 711 amostras (20.53%)\n",
      "Validação:\n",
      "  Classe 0: 737 amostras (85.2%)\n",
      "  Classe 1: 128 amostras (14.8%)\n",
      "--------------------------------------------------\n"
     ]
    }
   ],
   "source": [
    "data_factory = DataFactory(IMG_FILE_PATH, CSV_FILE_PATH)\n",
    "df = data_factory.load_data()\n",
    "rop_dataset = ROPDataset(df, is_train=False, apply_clahe=True)\n",
    "X_train, y_train, train_indx, patient_ids_train, gkf, test_dataset = data_factory.prepare_data_for_cross_validation(rop_dataset)\n",
    "\n",
    "print(\"\\n=== Distribuição de classes em cada fold (GroupKFold) ===\")\n",
    "for fold, (train_idx_fold, val_idx_fold) in enumerate(gkf.split(X_train, y_train, groups=patient_ids_train)):\n",
    "    y_train_fold = np.array(y_train)[train_idx_fold]\n",
    "    y_val_fold = np.array(y_train)[val_idx_fold]\n",
    "\n",
    "    train_counts = pd.Series(y_train_fold).value_counts().sort_index()\n",
    "    val_counts = pd.Series(y_val_fold).value_counts().sort_index()\n",
    "\n",
    "    train_perc = (train_counts / len(y_train_fold) * 100).round(2)\n",
    "    val_perc = (val_counts / len(y_val_fold) * 100).round(2)\n",
    "\n",
    "    print(f\"\\n*Fold {fold+1}\")\n",
    "    print(\"Treino:\")\n",
    "    for cls in train_counts.index:\n",
    "        print(f\"  Classe {cls}: {train_counts[cls]} amostras ({train_perc[cls]}%)\")\n",
    "    print(\"Validação:\")\n",
    "    for cls in val_counts.index:\n",
    "        print(f\"  Classe {cls}: {val_counts[cls]} amostras ({val_perc[cls]}%)\")\n",
    "    print(\"--------------------------------------------------\")\n"
   ]
  }
 ],
 "metadata": {
  "kernelspec": {
   "display_name": "torch",
   "language": "python",
   "name": "python3"
  },
  "language_info": {
   "codemirror_mode": {
    "name": "ipython",
    "version": 3
   },
   "file_extension": ".py",
   "mimetype": "text/x-python",
   "name": "python",
   "nbconvert_exporter": "python",
   "pygments_lexer": "ipython3",
   "version": "3.11.0"
  }
 },
 "nbformat": 4,
 "nbformat_minor": 5
}
